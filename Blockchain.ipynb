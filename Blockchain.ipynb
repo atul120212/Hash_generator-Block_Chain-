{
 "cells": [
  {
   "cell_type": "code",
   "execution_count": 1,
   "metadata": {},
   "outputs": [
    {
     "name": "stdout",
     "output_type": "stream",
     "text": [
      "{'data': 'gen_data', 'hash': '0a87388e67f16d830a9a3323dad0fdfa4c4044a6a6389cab1a0a37b651a5717b', 'prev_hash': 'bd6fecc16d509c74d23b04f00f936705e3eaa907b04b78872044607665018477'}\n",
      "{'data': '1', 'hash': 'e3e6c97161f3deaf01599fda60ba85593b07f70328bf228473d1d408f7400241', 'prev_hash': '0a87388e67f16d830a9a3323dad0fdfa4c4044a6a6389cab1a0a37b651a5717b'}\n",
      "{'data': '2', 'hash': '47e8645e3c14bd4034a498aa88ea630bc0793375207bf90ca469792a5d9484e1', 'prev_hash': 'e3e6c97161f3deaf01599fda60ba85593b07f70328bf228473d1d408f7400241'}\n",
      "{'data': '3', 'hash': '82084603decb1a14a8819dacaa86197659f1e150c4a50186e68043004b5a3c06', 'prev_hash': '47e8645e3c14bd4034a498aa88ea630bc0793375207bf90ca469792a5d9484e1'}\n",
      "{'data': '5', 'hash': '32da7446c31aa92442c22982c2a963addd7e11a424f6465ee92bfcd5836a33c9', 'prev_hash': '82084603decb1a14a8819dacaa86197659f1e150c4a50186e68043004b5a3c06'}\n"
     ]
    }
   ],
   "source": [
    "import hashlib\n",
    "def hashGenerator(data):\n",
    "    result=hashlib.sha256(data.encode())\n",
    "    return result.hexdigest()\n",
    "class Block:\n",
    "    def __init__(self,data,hash,prev_hash):\n",
    "        self.data=data\n",
    "        self.hash=hash\n",
    "        self.prev_hash=prev_hash\n",
    "class Blockchain:\n",
    "    def __init__(self):\n",
    "        hashLast=hashGenerator('gen_last')\n",
    "        hashStart=hashGenerator('gen_hash')\n",
    "\n",
    "        genesis=Block('gen_data',hashStart,hashLast)\n",
    "        self.chain=[genesis]\n",
    "    def add_block(self,data):\n",
    "        prev_hash=self.chain[-1].hash\n",
    "        hash=hashGenerator(data+prev_hash)\n",
    "        block=Block(data,hash,prev_hash)\n",
    "        self.chain.append(block)\n",
    "bc=Blockchain()\n",
    "bc.add_block('1')\n",
    "bc.add_block('2')\n",
    "bc.add_block('3')\n",
    "bc.add_block('5')\n",
    "for block in bc.chain:\n",
    "    print(block.__dict__)\n"
   ]
  }
 ],
 "metadata": {
  "interpreter": {
   "hash": "e80091dde83292b91825c7ad4960349457f9ec6ae9f548211b4e17f4323ffcae"
  },
  "kernelspec": {
   "display_name": "Python 3.8.8 64-bit ('base': conda)",
   "language": "python",
   "name": "python3"
  },
  "language_info": {
   "codemirror_mode": {
    "name": "ipython",
    "version": 3
   },
   "file_extension": ".py",
   "mimetype": "text/x-python",
   "name": "python",
   "nbconvert_exporter": "python",
   "pygments_lexer": "ipython3",
   "version": "3.8.8"
  },
  "orig_nbformat": 4
 },
 "nbformat": 4,
 "nbformat_minor": 2
}
