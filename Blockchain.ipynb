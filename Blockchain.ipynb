{
 "cells": [
  {
   "cell_type": "code",
   "execution_count": 1,
   "metadata": {},
   "outputs": [
    {
     "name": "stdout",
     "output_type": "stream",
     "text": [
      "{'data': 'gen_data', 'hash': '0a87388e67f16d830a9a3323dad0fdfa4c4044a6a6389cab1a0a37b651a5717b', 'prev_hash': 'bd6fecc16d509c74d23b04f00f936705e3eaa907b04b78872044607665018477'}\n",
      "{'data': 'Atul', 'hash': '7afb57ae28303c7f028d5ffe154b2f0e2855d1673c5b624c92643f8e8a2bcec5', 'prev_hash': '0a87388e67f16d830a9a3323dad0fdfa4c4044a6a6389cab1a0a37b651a5717b'}\n",
      "{'data': 'hello', 'hash': '2415677dcffd8490a2571d3a07832dbd0263a29a802a0af1fa88d6c971821fac', 'prev_hash': '7afb57ae28303c7f028d5ffe154b2f0e2855d1673c5b624c92643f8e8a2bcec5'}\n",
      "{'data': 'Hello', 'hash': 'abb3b8d5780ff7779e9c49f92131c288073bc0005be454ab2f4bd7121b82906a', 'prev_hash': '2415677dcffd8490a2571d3a07832dbd0263a29a802a0af1fa88d6c971821fac'}\n"
     ]
    }
   ],
   "source": [
    "import hashlib\n",
    "def hashGenerator(data):\n",
    "    result=hashlib.sha256(data.encode())\n",
    "    return result.hexdigest()\n",
    "class Block:\n",
    "    def __init__(self,data,hash,prev_hash):\n",
    "        self.data=data\n",
    "        self.hash=hash\n",
    "        self.prev_hash=prev_hash\n",
    "class Blockchain:\n",
    "    def __init__(self):\n",
    "        hashLast=hashGenerator('gen_last')\n",
    "        hashStart=hashGenerator('gen_hash')\n",
    "\n",
    "        genesis=Block('gen_data',hashStart,hashLast)\n",
    "        self.chain=[genesis]\n",
    "    def add_block(self,data):\n",
    "        prev_hash=self.chain[-1].hash\n",
    "        hash=hashGenerator(data+prev_hash)\n",
    "        block=Block(data,hash,prev_hash)\n",
    "        self.chain.append(block)\n",
    "bc=Blockchain()\n",
    "getcode=input(\"Enter your input to create hash:\")\n",
    "bc.add_block(getcode)\n",
    "getcode=input(\"Enter your next input to create hash:\")\n",
    "bc.add_block(getcode)\n",
    "getcode=input(\"Enter your next input to create hash:\")\n",
    "bc.add_block(getcode)\n",
    "for block in bc.chain:\n",
    "    print(block.__dict__)\n"
   ]
  }
 ],
 "metadata": {
  "interpreter": {
   "hash": "e80091dde83292b91825c7ad4960349457f9ec6ae9f548211b4e17f4323ffcae"
  },
  "kernelspec": {
   "display_name": "Python 3.8.8 64-bit ('base': conda)",
   "language": "python",
   "name": "python3"
  },
  "language_info": {
   "codemirror_mode": {
    "name": "ipython",
    "version": 3
   },
   "file_extension": ".py",
   "mimetype": "text/x-python",
   "name": "python",
   "nbconvert_exporter": "python",
   "pygments_lexer": "ipython3",
   "version": "3.8.8"
  },
  "orig_nbformat": 4
 },
 "nbformat": 4,
 "nbformat_minor": 2
}
